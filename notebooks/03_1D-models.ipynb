{
 "cells": [
  {
   "cell_type": "code",
   "execution_count": 2,
   "metadata": {},
   "outputs": [],
   "source": [
    "from mads_datasets.base import BaseDatastreamer\n",
    "from mltrainer.preprocessors import BasePreprocessor\n",
    "import matplotlib.pyplot as plt\n",
    "from pathlib import Path\n",
    "import pandas as pd\n",
    "import seaborn as sns\n",
    "from sklearn.metrics import confusion_matrix\n",
    "from torch import nn\n",
    "import torch\n",
    "\n",
    "import sys\n",
    "sys.path.append('../')\n",
    "from src import datasets, metrics"
   ]
  },
  {
   "cell_type": "code",
   "execution_count": 3,
   "metadata": {},
   "outputs": [
    {
     "data": {
      "text/plain": [
       "(WindowsPath('C:/Users/Admin/School/eindopdracht/data/heart_big_train.parq'),\n",
       " WindowsPath('C:/Users/Admin/School/eindopdracht/data/heart_big_test.parq'))"
      ]
     },
     "execution_count": 3,
     "metadata": {},
     "output_type": "execute_result"
    }
   ],
   "source": [
    "# trainfile = Path('../data/heart_train.parq').resolve()\n",
    "# testfile = Path('../data/heart_test.parq').resolve()\n",
    "trainfile = Path('../data/heart_big_train.parq').resolve()\n",
    "testfile = Path('../data/heart_big_test.parq').resolve()\n",
    "trainfile, testfile"
   ]
  },
  {
   "cell_type": "code",
   "execution_count": 4,
   "metadata": {},
   "outputs": [
    {
     "data": {
      "text/plain": [
       "(Heartdataset (len 87554), Heartdataset (len 21892))"
      ]
     },
     "execution_count": 4,
     "metadata": {},
     "output_type": "execute_result"
    }
   ],
   "source": [
    "traindataset = datasets.HeartDataset1D(trainfile, target=\"target\")\n",
    "testdataset = datasets.HeartDataset1D(testfile, target=\"target\")\n",
    "traindataset, testdataset\n",
    "\n",
    "# moving to mps device crashes the jypyter kernel, not sure why"
   ]
  },
  {
   "cell_type": "code",
   "execution_count": 5,
   "metadata": {},
   "outputs": [
    {
     "data": {
      "image/png": "[encoded data removed]",
      "text/plain": [
       "<Figure size 640x480 with 1 Axes>"
      ]
     },
     "metadata": {},
     "output_type": "display_data"
    }
   ],
   "source": [
    "x, y = traindataset[0]\n",
    "viz = x.squeeze().cpu().numpy()\n",
    "sns.lineplot(x=range(len(viz)), y=viz)\n",
    "title = 'normal' if y == 0 else 'abnormal'\n",
    "plt.title(f\"Label: {title}\");"
   ]
  },
  {
   "cell_type": "code",
   "execution_count": 6,
   "metadata": {},
   "outputs": [
    {
     "data": {
      "text/plain": [
       "(2736, 684)"
      ]
     },
     "execution_count": 6,
     "metadata": {},
     "output_type": "execute_result"
    }
   ],
   "source": [
    "trainstreamer = BaseDatastreamer(traindataset, preprocessor = BasePreprocessor(), batchsize=32)\n",
    "teststreamer = BaseDatastreamer(testdataset, preprocessor = BasePreprocessor(), batchsize=32)\n",
    "len(trainstreamer), len(teststreamer)"
   ]
  },
  {
   "cell_type": "code",
   "execution_count": 7,
   "metadata": {},
   "outputs": [],
   "source": [
    "from torch import Tensor\n",
    "import math\n",
    "\n",
    "class PositionalEncoding(nn.Module):\n",
    "\n",
    "    def __init__(self, d_model: int, dropout: float = 0.1, max_seq_len: int = 5000):\n",
    "        super().__init__()\n",
    "        self.dropout = nn.Dropout(p=dropout)\n",
    "\n",
    "        position = torch.arange(max_seq_len).unsqueeze(1)\n",
    "        div_term = torch.exp(torch.arange(0, d_model, 2) * (-math.log(10000.0) / d_model))\n",
    "        pe = torch.zeros(1, max_seq_len, d_model)\n",
    "        # batch, seq_len, d_model\n",
    "        pe[0, :, 0::2] = torch.sin(position * div_term)\n",
    "        pe[0, :, 1::2] = torch.cos(position * div_term)\n",
    "        self.register_buffer('pe', pe)\n",
    "\n",
    "    def forward(self, x: Tensor) -> Tensor:\n",
    "        \"\"\"\n",
    "        Arguments:\n",
    "            x: Tensor, shape ``[batch_size, seq_len, embedding_dim]``\n",
    "        \"\"\"\n",
    "        x = x + self.pe[:, :x.size(1), :]\n",
    "        return self.dropout(x)"
   ]
  },
  {
   "cell_type": "code",
   "execution_count": 8,
   "metadata": {},
   "outputs": [],
   "source": [
    "# streamer:         (batch, seq_len, channels)\n",
    "# conv1d:           (batch, channels, seq_len)\n",
    "# pos_encoding:     (batch, seq_len, channels)\n",
    "# gru (batchfirst): (batch, seq_len, channels)\n",
    "# attention:        (batch, seq_len, channels)"
   ]
  },
  {
   "cell_type": "code",
   "execution_count": 9,
   "metadata": {},
   "outputs": [],
   "source": [
    "class TransformerBlock(nn.Module):\n",
    "    def __init__(self, hidden_size, num_heads, dropout):\n",
    "        super(TransformerBlock, self).__init__()\n",
    "        self.attention = nn.MultiheadAttention(\n",
    "            embed_dim=hidden_size,\n",
    "            num_heads=num_heads,\n",
    "            dropout=dropout,\n",
    "            batch_first=True,\n",
    "        )\n",
    "        self.ff = nn.Sequential(\n",
    "            nn.Linear(hidden_size, hidden_size),\n",
    "            nn.ReLU(),\n",
    "            nn.Linear(hidden_size, hidden_size),\n",
    "            nn.ReLU(),\n",
    "        )\n",
    "        self.layer_norm1 = nn.LayerNorm(hidden_size)\n",
    "        self.layer_norm2 = nn.LayerNorm(hidden_size)\n",
    "\n",
    "    def forward(self, x):\n",
    "        identity = x.clone()\n",
    "        x, _ = self.attention(x, x, x)\n",
    "        x = self.layer_norm1(x + identity)\n",
    "        identity = x.clone()\n",
    "        x = self.ff(x)\n",
    "        x = self.layer_norm2(x + identity)\n",
    "        return x\n",
    "\n",
    "class Transformer(nn.Module):\n",
    "    def __init__(\n",
    "        self,\n",
    "        config: dict,\n",
    "    ) -> None:\n",
    "        super().__init__()\n",
    "        self.conv1d = nn.Conv1d(\n",
    "            in_channels=1,\n",
    "            out_channels=config[\"hidden\"],\n",
    "            kernel_size=3,\n",
    "            stride=2,\n",
    "            padding=1,\n",
    "        )\n",
    "        self.pos_encoder = PositionalEncoding(config[\"hidden\"], config[\"dropout\"])\n",
    "\n",
    "        # Create multiple transformer blocks\n",
    "        self.transformer_blocks = nn.ModuleList([\n",
    "            TransformerBlock(config[\"hidden\"], config[\"num_heads\"], config[\"dropout\"])\n",
    "            for _ in range(config[\"num_blocks\"])\n",
    "        ])\n",
    "\n",
    "        self.out = nn.Linear(config[\"hidden\"], config[\"output\"])\n",
    "\n",
    "    def forward(self, x: Tensor) -> Tensor:\n",
    "        # streamer:         (batch, seq_len, channels)\n",
    "        # conv1d:           (batch, channels, seq_len)\n",
    "        # pos_encoding:     (batch, seq_len, channels)\n",
    "        # attention:        (batch, seq_len, channels)\n",
    "        x = self.conv1d(x.transpose(1, 2))\n",
    "        x = self.pos_encoder(x.transpose(1, 2))\n",
    "\n",
    "        # Apply multiple transformer blocks\n",
    "        for transformer_block in self.transformer_blocks:\n",
    "            x = transformer_block(x)\n",
    "\n",
    "        x = x.mean(dim=1)\n",
    "        x = self.out(x)\n",
    "        return x"
   ]
  },
  {
   "cell_type": "code",
   "execution_count": 10,
   "metadata": {},
   "outputs": [],
   "source": [
    "# from src import models\n",
    "# config = {\n",
    "#     \"hidden\": 128,\n",
    "#     \"dropout\": 0.1,\n",
    "#     \"output\": 2,\n",
    "#     \"num_heads\": 4,\n",
    "#     \"num_blocks\": 3,\n",
    "# }\n",
    "# model = models.Transformer(config)"
   ]
  },
  {
   "cell_type": "code",
   "execution_count": 11,
   "metadata": {},
   "outputs": [],
   "source": [
    "# x, y = next(trainstreamer.stream())\n",
    "# x.shape, y.shape"
   ]
  },
  {
   "cell_type": "code",
   "execution_count": 12,
   "metadata": {},
   "outputs": [],
   "source": [
    "# yhat = model(x)\n",
    "# yhat.shape"
   ]
  },
  {
   "cell_type": "code",
   "execution_count": 13,
   "metadata": {},
   "outputs": [],
   "source": [
    "f1micro = metrics.F1Score(average='micro')\n",
    "f1macro = metrics.F1Score(average='macro')\n",
    "precision = metrics.Precision('micro')\n",
    "recall = metrics.Recall('macro')\n",
    "accuracy = metrics.Accuracy()"
   ]
  },
  {
   "cell_type": "code",
   "execution_count": 14,
   "metadata": {},
   "outputs": [],
   "source": [
    "from mads_datasets.base import BaseDatastreamer\n",
    "from pathlib import Path\n",
    "import pandas as pd\n",
    "import seaborn as sns\n",
    "from sklearn.metrics import confusion_matrix\n",
    "from torch import nn\n",
    "import torch\n",
    "from pathlib import Path\n",
    "from typing import Dict\n",
    "\n",
    "import ray\n",
    "import torch\n",
    "from filelock import FileLock\n",
    "from loguru import logger\n",
    "from mltrainer import ReportTypes, Trainer, TrainerSettings\n",
    "from mltrainer.preprocessors import PaddedPreprocessor\n",
    "from ray import tune\n",
    "from ray.tune import CLIReporter\n",
    "from ray.tune.schedulers.hb_bohb import HyperBandForBOHB\n",
    "from ray.tune.search.bohb import TuneBOHB\n",
    "\n",
    "import models\n",
    "\n",
    "SAMPLE_INT = tune.search.sample.Integer\n",
    "SAMPLE_FLOAT = tune.search.sample.Float\n",
    "\n",
    "f1micro = metrics.F1Score(average='micro')\n",
    "f1macro = metrics.F1Score(average='macro')\n",
    "precision = metrics.Precision('micro')\n",
    "recall = metrics.Recall('macro')\n",
    "accuracy = metrics.Accuracy()\n",
    "\n",
    "def train(config: Dict):\n",
    "    \"\"\"\n",
    "    The train function should receive a config file, which is a Dict\n",
    "    ray will modify the values inside the config before it is passed to the train\n",
    "    function.\n",
    "    \"\"\"\n",
    "    \n",
    "    model = models.Transformer(config)\n",
    "    model.to(device)\n",
    "\n",
    "    trainersettings = TrainerSettings(\n",
    "        epochs=5,\n",
    "        metrics=[accuracy],\n",
    "        logdir=\"heart1DBIG\",\n",
    "        train_steps=len(trainstreamer),\n",
    "        valid_steps=len(teststreamer),  # type: ignore\n",
    "        reporttypes=[ReportTypes.RAY],\n",
    "        scheduler_kwargs={\"factor\": 0.5, \"patience\": 5},\n",
    "        earlystop_kwargs=None,\n",
    "    )\n",
    "\n",
    "    # because we set reporttypes=[ReportTypes.RAY]\n",
    "    # the trainloop wont try to report back to tensorboard,\n",
    "    # but will report back with ray\n",
    "    # this way, ray will know whats going on,\n",
    "    # and can start/pause/stop a loop.\n",
    "    # This is why we set earlystop_kwargs=None, because we\n",
    "    # are handing over this control to ray.\n",
    "\n",
    "    trainer = Trainer(\n",
    "        model=model,\n",
    "        settings=trainersettings,\n",
    "        loss_fn=torch.nn.CrossEntropyLoss(),\n",
    "        optimizer=torch.optim.Adam,  # type: ignore\n",
    "        traindataloader=trainstreamer.stream(),\n",
    "        validdataloader=teststreamer.stream(),\n",
    "        scheduler=torch.optim.lr_scheduler.ReduceLROnPlateau,\n",
    "    )\n",
    "\n",
    "    trainer.loop()\n"
   ]
  },
  {
   "cell_type": "code",
   "execution_count": 22,
   "metadata": {},
   "outputs": [
    {
     "name": "stderr",
     "output_type": "stream",
     "text": [
      "2024-01-30 15:46:11,890\tINFO worker.py:1724 -- Started a local Ray instance.\n",
      "2024-01-30 15:46:12,844\tINFO tune.py:583 -- [output] This uses the legacy output and progress reporter, as Jupyter notebooks are not supported by the new engine, yet. For more information, please see https://github.com/ray-project/ray/issues/36949\n"
     ]
    },
    {
     "ename": "ValueError",
     "evalue": "Tracked actor is not managed by this event manager: <TrackedActor 91649135076768202010598653429442980430>",
     "output_type": "error",
     "traceback": [
      "\u001b[1;31m---------------------------------------------------------------------------\u001b[0m",
      "\u001b[1;31mValueError\u001b[0m                                Traceback (most recent call last)",
      "File \u001b[1;32mc:\\Users\\Admin\\School\\eindopdracht\\.venv\\lib\\site-packages\\ray\\tune\\tune.py:1002\u001b[0m, in \u001b[0;36mrun\u001b[1;34m(run_or_experiment, name, metric, mode, stop, time_budget_s, config, resources_per_trial, num_samples, storage_path, storage_filesystem, search_alg, scheduler, checkpoint_config, verbose, progress_reporter, log_to_file, trial_name_creator, trial_dirname_creator, sync_config, export_formats, max_failures, fail_fast, restore, resume, reuse_actors, raise_on_failed_trial, callbacks, max_concurrent_trials, keep_checkpoints_num, checkpoint_score_attr, checkpoint_freq, checkpoint_at_end, chdir_to_trial_dir, local_dir, _remote, _remote_string_queue, _entrypoint)\u001b[0m\n\u001b[0;32m   1001\u001b[0m \u001b[38;5;28;01mwhile\u001b[39;00m \u001b[38;5;129;01mnot\u001b[39;00m runner\u001b[38;5;241m.\u001b[39mis_finished() \u001b[38;5;129;01mand\u001b[39;00m \u001b[38;5;129;01mnot\u001b[39;00m experiment_interrupted_event\u001b[38;5;241m.\u001b[39mis_set():\n\u001b[1;32m-> 1002\u001b[0m     \u001b[43mrunner\u001b[49m\u001b[38;5;241;43m.\u001b[39;49m\u001b[43mstep\u001b[49m\u001b[43m(\u001b[49m\u001b[43m)\u001b[49m\n\u001b[0;32m   1003\u001b[0m     \u001b[38;5;28;01mif\u001b[39;00m has_verbosity(Verbosity\u001b[38;5;241m.\u001b[39mV1_EXPERIMENT):\n",
      "File \u001b[1;32mc:\\Users\\Admin\\School\\eindopdracht\\.venv\\lib\\site-packages\\ray\\tune\\execution\\tune_controller.py:728\u001b[0m, in \u001b[0;36mTuneController.step\u001b[1;34m(self)\u001b[0m\n\u001b[0;32m    727\u001b[0m \u001b[38;5;66;03m# Handle one event\u001b[39;00m\n\u001b[1;32m--> 728\u001b[0m \u001b[38;5;28;01mif\u001b[39;00m \u001b[38;5;129;01mnot\u001b[39;00m \u001b[38;5;28;43mself\u001b[39;49m\u001b[38;5;241;43m.\u001b[39;49m\u001b[43m_actor_manager\u001b[49m\u001b[38;5;241;43m.\u001b[39;49m\u001b[43mnext\u001b[49m\u001b[43m(\u001b[49m\u001b[43mtimeout\u001b[49m\u001b[38;5;241;43m=\u001b[39;49m\u001b[38;5;241;43m0.1\u001b[39;49m\u001b[43m)\u001b[49m:\n\u001b[0;32m    729\u001b[0m     \u001b[38;5;66;03m# If there are no actors running, warn about potentially\u001b[39;00m\n\u001b[0;32m    730\u001b[0m     \u001b[38;5;66;03m# insufficient resources\u001b[39;00m\n\u001b[0;32m    731\u001b[0m     \u001b[38;5;28;01mif\u001b[39;00m \u001b[38;5;129;01mnot\u001b[39;00m \u001b[38;5;28mself\u001b[39m\u001b[38;5;241m.\u001b[39m_actor_manager\u001b[38;5;241m.\u001b[39mnum_live_actors:\n",
      "File \u001b[1;32mc:\\Users\\Admin\\School\\eindopdracht\\.venv\\lib\\site-packages\\ray\\air\\execution\\_internal\\actor_manager.py:226\u001b[0m, in \u001b[0;36mRayActorManager.next\u001b[1;34m(self, timeout)\u001b[0m\n\u001b[0;32m    225\u001b[0m \u001b[38;5;28;01melse\u001b[39;00m:\n\u001b[1;32m--> 226\u001b[0m     \u001b[38;5;28;43mself\u001b[39;49m\u001b[38;5;241;43m.\u001b[39;49m\u001b[43m_handle_ready_resource_future\u001b[49m\u001b[43m(\u001b[49m\u001b[43m)\u001b[49m\n\u001b[0;32m    227\u001b[0m     \u001b[38;5;66;03m# Ready resource futures don't count as one event as they don't trigger\u001b[39;00m\n\u001b[0;32m    228\u001b[0m     \u001b[38;5;66;03m# any callbacks. So we repeat until we hit anything that is not a resource\u001b[39;00m\n\u001b[0;32m    229\u001b[0m     \u001b[38;5;66;03m# future.\u001b[39;00m\n",
      "File \u001b[1;32mc:\\Users\\Admin\\School\\eindopdracht\\.venv\\lib\\site-packages\\ray\\air\\execution\\_internal\\actor_manager.py:311\u001b[0m, in \u001b[0;36mRayActorManager._handle_ready_resource_future\u001b[1;34m(self)\u001b[0m\n\u001b[0;32m    310\u001b[0m \u001b[38;5;66;03m# We handle resource futures one by one, so only try to start 1 actor at a time\u001b[39;00m\n\u001b[1;32m--> 311\u001b[0m \u001b[38;5;28;43mself\u001b[39;49m\u001b[38;5;241;43m.\u001b[39;49m\u001b[43m_try_start_actors\u001b[49m\u001b[43m(\u001b[49m\u001b[43mmax_actors\u001b[49m\u001b[38;5;241;43m=\u001b[39;49m\u001b[38;5;241;43m1\u001b[39;49m\u001b[43m)\u001b[49m\n",
      "File \u001b[1;32mc:\\Users\\Admin\\School\\eindopdracht\\.venv\\lib\\site-packages\\ray\\air\\execution\\_internal\\actor_manager.py:361\u001b[0m, in \u001b[0;36mRayActorManager._try_start_actors\u001b[1;34m(self, max_actors)\u001b[0m\n\u001b[0;32m    360\u001b[0m \u001b[38;5;66;03m# Start Ray actor\u001b[39;00m\n\u001b[1;32m--> 361\u001b[0m actor \u001b[38;5;241m=\u001b[39m remote_actor_cls\u001b[38;5;241m.\u001b[39mremote(\u001b[38;5;241m*\u001b[39m\u001b[38;5;241m*\u001b[39mkwargs)\n\u001b[0;32m    363\u001b[0m \u001b[38;5;66;03m# Track\u001b[39;00m\n",
      "File \u001b[1;32mc:\\Users\\Admin\\School\\eindopdracht\\.venv\\lib\\site-packages\\ray\\actor.py:753\u001b[0m, in \u001b[0;36mActorClass.options.<locals>.ActorOptionWrapper.remote\u001b[1;34m(self, *args, **kwargs)\u001b[0m\n\u001b[0;32m    752\u001b[0m \u001b[38;5;28;01mdef\u001b[39;00m \u001b[38;5;21mremote\u001b[39m(\u001b[38;5;28mself\u001b[39m, \u001b[38;5;241m*\u001b[39margs, \u001b[38;5;241m*\u001b[39m\u001b[38;5;241m*\u001b[39mkwargs):\n\u001b[1;32m--> 753\u001b[0m     \u001b[38;5;28;01mreturn\u001b[39;00m actor_cls\u001b[38;5;241m.\u001b[39m_remote(args\u001b[38;5;241m=\u001b[39margs, kwargs\u001b[38;5;241m=\u001b[39mkwargs, \u001b[38;5;241m*\u001b[39m\u001b[38;5;241m*\u001b[39mupdated_options)\n",
      "File \u001b[1;32mc:\\Users\\Admin\\School\\eindopdracht\\.venv\\lib\\site-packages\\ray\\_private\\auto_init_hook.py:22\u001b[0m, in \u001b[0;36mwrap_auto_init.<locals>.auto_init_wrapper\u001b[1;34m(*args, **kwargs)\u001b[0m\n\u001b[0;32m     21\u001b[0m auto_init_ray()\n\u001b[1;32m---> 22\u001b[0m \u001b[38;5;28;01mreturn\u001b[39;00m fn(\u001b[38;5;241m*\u001b[39margs, \u001b[38;5;241m*\u001b[39m\u001b[38;5;241m*\u001b[39mkwargs)\n",
      "File \u001b[1;32mc:\\Users\\Admin\\School\\eindopdracht\\.venv\\lib\\site-packages\\ray\\util\\tracing\\tracing_helper.py:388\u001b[0m, in \u001b[0;36m_tracing_actor_creation.<locals>._invocation_actor_class_remote_span\u001b[1;34m(self, args, kwargs, *_args, **_kwargs)\u001b[0m\n\u001b[0;32m    387\u001b[0m     \u001b[38;5;28;01massert\u001b[39;00m \u001b[38;5;124m\"\u001b[39m\u001b[38;5;124m_ray_trace_ctx\u001b[39m\u001b[38;5;124m\"\u001b[39m \u001b[38;5;129;01mnot\u001b[39;00m \u001b[38;5;129;01min\u001b[39;00m kwargs\n\u001b[1;32m--> 388\u001b[0m     \u001b[38;5;28;01mreturn\u001b[39;00m method(\u001b[38;5;28mself\u001b[39m, args, kwargs, \u001b[38;5;241m*\u001b[39m_args, \u001b[38;5;241m*\u001b[39m\u001b[38;5;241m*\u001b[39m_kwargs)\n\u001b[0;32m    390\u001b[0m class_name \u001b[38;5;241m=\u001b[39m \u001b[38;5;28mself\u001b[39m\u001b[38;5;241m.\u001b[39m__ray_metadata__\u001b[38;5;241m.\u001b[39mclass_name\n",
      "File \u001b[1;32mc:\\Users\\Admin\\School\\eindopdracht\\.venv\\lib\\site-packages\\ray\\actor.py:956\u001b[0m, in \u001b[0;36mActorClass._remote\u001b[1;34m(self, args, kwargs, **actor_options)\u001b[0m\n\u001b[0;32m    952\u001b[0m     \u001b[38;5;66;03m# After serialize / deserialize modified class, the __module__\u001b[39;00m\n\u001b[0;32m    953\u001b[0m     \u001b[38;5;66;03m# of modified class will be ray.cloudpickle.cloudpickle.\u001b[39;00m\n\u001b[0;32m    954\u001b[0m     \u001b[38;5;66;03m# So, here pass actor_creation_function_descriptor to make\u001b[39;00m\n\u001b[0;32m    955\u001b[0m     \u001b[38;5;66;03m# sure export actor class correct.\u001b[39;00m\n\u001b[1;32m--> 956\u001b[0m     \u001b[43mworker\u001b[49m\u001b[38;5;241;43m.\u001b[39;49m\u001b[43mfunction_actor_manager\u001b[49m\u001b[38;5;241;43m.\u001b[39;49m\u001b[43mexport_actor_class\u001b[49m\u001b[43m(\u001b[49m\n\u001b[0;32m    957\u001b[0m \u001b[43m        \u001b[49m\u001b[43mmeta\u001b[49m\u001b[38;5;241;43m.\u001b[39;49m\u001b[43mmodified_class\u001b[49m\u001b[43m,\u001b[49m\n\u001b[0;32m    958\u001b[0m \u001b[43m        \u001b[49m\u001b[43mmeta\u001b[49m\u001b[38;5;241;43m.\u001b[39;49m\u001b[43mactor_creation_function_descriptor\u001b[49m\u001b[43m,\u001b[49m\n\u001b[0;32m    959\u001b[0m \u001b[43m        \u001b[49m\u001b[43mmeta\u001b[49m\u001b[38;5;241;43m.\u001b[39;49m\u001b[43mmethod_meta\u001b[49m\u001b[38;5;241;43m.\u001b[39;49m\u001b[43mmethods\u001b[49m\u001b[38;5;241;43m.\u001b[39;49m\u001b[43mkeys\u001b[49m\u001b[43m(\u001b[49m\u001b[43m)\u001b[49m\u001b[43m,\u001b[49m\n\u001b[0;32m    960\u001b[0m \u001b[43m    \u001b[49m\u001b[43m)\u001b[49m\n\u001b[0;32m    962\u001b[0m resources \u001b[38;5;241m=\u001b[39m ray\u001b[38;5;241m.\u001b[39m_private\u001b[38;5;241m.\u001b[39mutils\u001b[38;5;241m.\u001b[39mresources_from_ray_options(actor_options)\n",
      "File \u001b[1;32mc:\\Users\\Admin\\School\\eindopdracht\\.venv\\lib\\site-packages\\ray\\_private\\function_manager.py:531\u001b[0m, in \u001b[0;36mFunctionActorManager.export_actor_class\u001b[1;34m(self, Class, actor_creation_function_descriptor, actor_method_names)\u001b[0m\n\u001b[0;32m    522\u001b[0m actor_class_info \u001b[38;5;241m=\u001b[39m {\n\u001b[0;32m    523\u001b[0m     \u001b[38;5;124m\"\u001b[39m\u001b[38;5;124mclass_name\u001b[39m\u001b[38;5;124m\"\u001b[39m: actor_creation_function_descriptor\u001b[38;5;241m.\u001b[39mclass_name\u001b[38;5;241m.\u001b[39msplit(\u001b[38;5;124m\"\u001b[39m\u001b[38;5;124m.\u001b[39m\u001b[38;5;124m\"\u001b[39m)[\u001b[38;5;241m-\u001b[39m\u001b[38;5;241m1\u001b[39m],\n\u001b[0;32m    524\u001b[0m     \u001b[38;5;124m\"\u001b[39m\u001b[38;5;124mmodule\u001b[39m\u001b[38;5;124m\"\u001b[39m: actor_creation_function_descriptor\u001b[38;5;241m.\u001b[39mmodule_name,\n\u001b[1;32m   (...)\u001b[0m\n\u001b[0;32m    528\u001b[0m     \u001b[38;5;124m\"\u001b[39m\u001b[38;5;124mactor_method_names\u001b[39m\u001b[38;5;124m\"\u001b[39m: json\u001b[38;5;241m.\u001b[39mdumps(\u001b[38;5;28mlist\u001b[39m(actor_method_names)),\n\u001b[0;32m    529\u001b[0m }\n\u001b[1;32m--> 531\u001b[0m \u001b[43mcheck_oversized_function\u001b[49m\u001b[43m(\u001b[49m\n\u001b[0;32m    532\u001b[0m \u001b[43m    \u001b[49m\u001b[43mactor_class_info\u001b[49m\u001b[43m[\u001b[49m\u001b[38;5;124;43m\"\u001b[39;49m\u001b[38;5;124;43mclass\u001b[39;49m\u001b[38;5;124;43m\"\u001b[39;49m\u001b[43m]\u001b[49m\u001b[43m,\u001b[49m\n\u001b[0;32m    533\u001b[0m \u001b[43m    \u001b[49m\u001b[43mactor_class_info\u001b[49m\u001b[43m[\u001b[49m\u001b[38;5;124;43m\"\u001b[39;49m\u001b[38;5;124;43mclass_name\u001b[39;49m\u001b[38;5;124;43m\"\u001b[39;49m\u001b[43m]\u001b[49m\u001b[43m,\u001b[49m\n\u001b[0;32m    534\u001b[0m \u001b[43m    \u001b[49m\u001b[38;5;124;43m\"\u001b[39;49m\u001b[38;5;124;43mactor\u001b[39;49m\u001b[38;5;124;43m\"\u001b[39;49m\u001b[43m,\u001b[49m\n\u001b[0;32m    535\u001b[0m \u001b[43m    \u001b[49m\u001b[38;5;28;43mself\u001b[39;49m\u001b[38;5;241;43m.\u001b[39;49m\u001b[43m_worker\u001b[49m\u001b[43m,\u001b[49m\n\u001b[0;32m    536\u001b[0m \u001b[43m\u001b[49m\u001b[43m)\u001b[49m\n\u001b[0;32m    538\u001b[0m \u001b[38;5;28mself\u001b[39m\u001b[38;5;241m.\u001b[39m_worker\u001b[38;5;241m.\u001b[39mgcs_client\u001b[38;5;241m.\u001b[39minternal_kv_put(\n\u001b[0;32m    539\u001b[0m     key, pickle\u001b[38;5;241m.\u001b[39mdumps(actor_class_info), \u001b[38;5;28;01mTrue\u001b[39;00m, KV_NAMESPACE_FUNCTION_TABLE\n\u001b[0;32m    540\u001b[0m )\n",
      "File \u001b[1;32mc:\\Users\\Admin\\School\\eindopdracht\\.venv\\lib\\site-packages\\ray\\_private\\utils.py:749\u001b[0m, in \u001b[0;36mcheck_oversized_function\u001b[1;34m(pickled, name, obj_type, worker)\u001b[0m\n\u001b[0;32m    738\u001b[0m error \u001b[38;5;241m=\u001b[39m (\n\u001b[0;32m    739\u001b[0m     \u001b[38;5;124m\"\u001b[39m\u001b[38;5;124mThe \u001b[39m\u001b[38;5;132;01m{}\u001b[39;00m\u001b[38;5;124m \u001b[39m\u001b[38;5;132;01m{}\u001b[39;00m\u001b[38;5;124m is too large (\u001b[39m\u001b[38;5;132;01m{}\u001b[39;00m\u001b[38;5;124m MiB > FUNCTION_SIZE_ERROR_THRESHOLD=\u001b[39m\u001b[38;5;132;01m{}\u001b[39;00m\u001b[38;5;124m\"\u001b[39m\n\u001b[0;32m    740\u001b[0m     \u001b[38;5;124m\"\u001b[39m\u001b[38;5;124m MiB). Check that its definition is not implicitly capturing a \u001b[39m\u001b[38;5;124m\"\u001b[39m\n\u001b[1;32m   (...)\u001b[0m\n\u001b[0;32m    747\u001b[0m     ray_constants\u001b[38;5;241m.\u001b[39mFUNCTION_SIZE_ERROR_THRESHOLD \u001b[38;5;241m/\u001b[39m\u001b[38;5;241m/\u001b[39m (\u001b[38;5;241m1024\u001b[39m \u001b[38;5;241m*\u001b[39m \u001b[38;5;241m1024\u001b[39m),\n\u001b[0;32m    748\u001b[0m )\n\u001b[1;32m--> 749\u001b[0m \u001b[38;5;28;01mraise\u001b[39;00m \u001b[38;5;167;01mValueError\u001b[39;00m(error)\n",
      "\u001b[1;31mValueError\u001b[0m: The actor ImplicitFunc is too large (238 MiB > FUNCTION_SIZE_ERROR_THRESHOLD=95 MiB). Check that its definition is not implicitly capturing a large array or other object in scope. Tip: use ray.put() to put large objects in the Ray object store.",
      "\nDuring handling of the above exception, another exception occurred:\n",
      "\u001b[1;31mValueError\u001b[0m                                Traceback (most recent call last)",
      "Cell \u001b[1;32mIn[22], line 36\u001b[0m\n\u001b[0;32m     27\u001b[0m bohb_hyperband \u001b[38;5;241m=\u001b[39m HyperBandForBOHB(\n\u001b[0;32m     28\u001b[0m     time_attr\u001b[38;5;241m=\u001b[39m\u001b[38;5;124m\"\u001b[39m\u001b[38;5;124mtraining_iteration\u001b[39m\u001b[38;5;124m\"\u001b[39m,\n\u001b[0;32m     29\u001b[0m     max_t\u001b[38;5;241m=\u001b[39m\u001b[38;5;241m50\u001b[39m,\n\u001b[0;32m     30\u001b[0m     reduction_factor\u001b[38;5;241m=\u001b[39m\u001b[38;5;241m3\u001b[39m,\n\u001b[0;32m     31\u001b[0m     stop_last_trials\u001b[38;5;241m=\u001b[39m\u001b[38;5;28;01mFalse\u001b[39;00m,\n\u001b[0;32m     32\u001b[0m )\n\u001b[0;32m     34\u001b[0m bohb_search \u001b[38;5;241m=\u001b[39m TuneBOHB()\n\u001b[1;32m---> 36\u001b[0m analysis \u001b[38;5;241m=\u001b[39m \u001b[43mtune\u001b[49m\u001b[38;5;241;43m.\u001b[39;49m\u001b[43mrun\u001b[49m\u001b[43m(\u001b[49m\n\u001b[0;32m     37\u001b[0m \u001b[43m    \u001b[49m\u001b[43mtrain\u001b[49m\u001b[43m,\u001b[49m\n\u001b[0;32m     38\u001b[0m \u001b[43m    \u001b[49m\u001b[43mconfig\u001b[49m\u001b[38;5;241;43m=\u001b[39;49m\u001b[43mconfig\u001b[49m\u001b[43m,\u001b[49m\n\u001b[0;32m     39\u001b[0m \u001b[43m    \u001b[49m\u001b[43mmetric\u001b[49m\u001b[38;5;241;43m=\u001b[39;49m\u001b[38;5;124;43m\"\u001b[39;49m\u001b[38;5;124;43mtest_loss\u001b[39;49m\u001b[38;5;124;43m\"\u001b[39;49m\u001b[43m,\u001b[49m\n\u001b[0;32m     40\u001b[0m \u001b[43m    \u001b[49m\u001b[43mmode\u001b[49m\u001b[38;5;241;43m=\u001b[39;49m\u001b[38;5;124;43m\"\u001b[39;49m\u001b[38;5;124;43mmin\u001b[39;49m\u001b[38;5;124;43m\"\u001b[39;49m\u001b[43m,\u001b[49m\n\u001b[0;32m     41\u001b[0m \u001b[43m    \u001b[49m\u001b[43mprogress_reporter\u001b[49m\u001b[38;5;241;43m=\u001b[39;49m\u001b[43mreporter\u001b[49m\u001b[43m,\u001b[49m\n\u001b[0;32m     42\u001b[0m \u001b[43m    \u001b[49m\u001b[38;5;66;43;03m# local_dir=str(config[\"tune_dir\"]),\u001b[39;49;00m\n\u001b[0;32m     43\u001b[0m \u001b[43m    \u001b[49m\u001b[43mnum_samples\u001b[49m\u001b[38;5;241;43m=\u001b[39;49m\u001b[38;5;241;43m20\u001b[39;49m\u001b[43m,\u001b[49m\n\u001b[0;32m     44\u001b[0m \u001b[43m    \u001b[49m\u001b[43msearch_alg\u001b[49m\u001b[38;5;241;43m=\u001b[39;49m\u001b[43mbohb_search\u001b[49m\u001b[43m,\u001b[49m\n\u001b[0;32m     45\u001b[0m \u001b[43m    \u001b[49m\u001b[43mscheduler\u001b[49m\u001b[38;5;241;43m=\u001b[39;49m\u001b[43mbohb_hyperband\u001b[49m\u001b[43m,\u001b[49m\n\u001b[0;32m     46\u001b[0m \u001b[43m    \u001b[49m\u001b[43mverbose\u001b[49m\u001b[38;5;241;43m=\u001b[39;49m\u001b[38;5;241;43m1\u001b[39;49m\u001b[43m,\u001b[49m\n\u001b[0;32m     47\u001b[0m \u001b[43m\u001b[49m\u001b[43m)\u001b[49m\n\u001b[0;32m     49\u001b[0m ray\u001b[38;5;241m.\u001b[39mshutdown()\n",
      "File \u001b[1;32mc:\\Users\\Admin\\School\\eindopdracht\\.venv\\lib\\site-packages\\ray\\tune\\tune.py:1009\u001b[0m, in \u001b[0;36mrun\u001b[1;34m(run_or_experiment, name, metric, mode, stop, time_budget_s, config, resources_per_trial, num_samples, storage_path, storage_filesystem, search_alg, scheduler, checkpoint_config, verbose, progress_reporter, log_to_file, trial_name_creator, trial_dirname_creator, sync_config, export_formats, max_failures, fail_fast, restore, resume, reuse_actors, raise_on_failed_trial, callbacks, max_concurrent_trials, keep_checkpoints_num, checkpoint_score_attr, checkpoint_freq, checkpoint_at_end, chdir_to_trial_dir, local_dir, _remote, _remote_string_queue, _entrypoint)\u001b[0m\n\u001b[0;32m   1007\u001b[0m             _report_air_progress(runner, air_progress_reporter)\n\u001b[0;32m   1008\u001b[0m \u001b[38;5;28;01mexcept\u001b[39;00m \u001b[38;5;167;01mException\u001b[39;00m:\n\u001b[1;32m-> 1009\u001b[0m     \u001b[43mrunner\u001b[49m\u001b[38;5;241;43m.\u001b[39;49m\u001b[43mcleanup\u001b[49m\u001b[43m(\u001b[49m\u001b[43m)\u001b[49m\n\u001b[0;32m   1010\u001b[0m     \u001b[38;5;28;01mraise\u001b[39;00m\n\u001b[0;32m   1012\u001b[0m tune_taken \u001b[38;5;241m=\u001b[39m time\u001b[38;5;241m.\u001b[39mtime() \u001b[38;5;241m-\u001b[39m tune_start\n",
      "File \u001b[1;32mc:\\Users\\Admin\\School\\eindopdracht\\.venv\\lib\\site-packages\\ray\\tune\\execution\\tune_controller.py:2017\u001b[0m, in \u001b[0;36mTuneController.cleanup\u001b[1;34m(self)\u001b[0m\n\u001b[0;32m   2015\u001b[0m \u001b[38;5;28;01mdef\u001b[39;00m \u001b[38;5;21mcleanup\u001b[39m(\u001b[38;5;28mself\u001b[39m):\n\u001b[0;32m   2016\u001b[0m \u001b[38;5;250m    \u001b[39m\u001b[38;5;124;03m\"\"\"Cleanup trials and callbacks.\"\"\"\u001b[39;00m\n\u001b[1;32m-> 2017\u001b[0m     \u001b[38;5;28;43mself\u001b[39;49m\u001b[38;5;241;43m.\u001b[39;49m\u001b[43m_cleanup_trials\u001b[49m\u001b[43m(\u001b[49m\u001b[43m)\u001b[49m\n\u001b[0;32m   2018\u001b[0m     \u001b[38;5;28mself\u001b[39m\u001b[38;5;241m.\u001b[39mend_experiment_callbacks()\n",
      "File \u001b[1;32mc:\\Users\\Admin\\School\\eindopdracht\\.venv\\lib\\site-packages\\ray\\tune\\execution\\tune_controller.py:835\u001b[0m, in \u001b[0;36mTuneController._cleanup_trials\u001b[1;34m(self)\u001b[0m\n\u001b[0;32m    830\u001b[0m     trial \u001b[38;5;241m=\u001b[39m \u001b[38;5;28mself\u001b[39m\u001b[38;5;241m.\u001b[39m_actor_to_trial[tracked_actor]\n\u001b[0;32m    831\u001b[0m     logger\u001b[38;5;241m.\u001b[39mdebug(\n\u001b[0;32m    832\u001b[0m         \u001b[38;5;124mf\u001b[39m\u001b[38;5;124m\"\u001b[39m\u001b[38;5;124mScheduling trial stop at end of experiment (trial \u001b[39m\u001b[38;5;132;01m{\u001b[39;00mtrial\u001b[38;5;132;01m}\u001b[39;00m\u001b[38;5;124m): \u001b[39m\u001b[38;5;124m\"\u001b[39m\n\u001b[0;32m    833\u001b[0m         \u001b[38;5;124mf\u001b[39m\u001b[38;5;124m\"\u001b[39m\u001b[38;5;132;01m{\u001b[39;00mtracked_actor\u001b[38;5;132;01m}\u001b[39;00m\u001b[38;5;124m\"\u001b[39m\n\u001b[0;32m    834\u001b[0m     )\n\u001b[1;32m--> 835\u001b[0m     \u001b[38;5;28;43mself\u001b[39;49m\u001b[38;5;241;43m.\u001b[39;49m\u001b[43m_schedule_trial_stop\u001b[49m\u001b[43m(\u001b[49m\u001b[43mtrial\u001b[49m\u001b[43m)\u001b[49m\n\u001b[0;32m    837\u001b[0m \u001b[38;5;66;03m# Clean up cached actors now\u001b[39;00m\n\u001b[0;32m    838\u001b[0m \u001b[38;5;28mself\u001b[39m\u001b[38;5;241m.\u001b[39m_cleanup_cached_actors(force_all\u001b[38;5;241m=\u001b[39m\u001b[38;5;28;01mTrue\u001b[39;00m)\n",
      "File \u001b[1;32mc:\\Users\\Admin\\School\\eindopdracht\\.venv\\lib\\site-packages\\ray\\tune\\execution\\tune_controller.py:1446\u001b[0m, in \u001b[0;36mTuneController._schedule_trial_stop\u001b[1;34m(self, trial, exception)\u001b[0m\n\u001b[0;32m   1442\u001b[0m \u001b[38;5;28mself\u001b[39m\u001b[38;5;241m.\u001b[39m_actor_to_trial\u001b[38;5;241m.\u001b[39mpop(tracked_actor)\n\u001b[0;32m   1444\u001b[0m trial\u001b[38;5;241m.\u001b[39mset_ray_actor(\u001b[38;5;28;01mNone\u001b[39;00m)\n\u001b[1;32m-> 1446\u001b[0m \u001b[38;5;28;43mself\u001b[39;49m\u001b[38;5;241;43m.\u001b[39;49m\u001b[43m_remove_actor\u001b[49m\u001b[43m(\u001b[49m\u001b[43mtracked_actor\u001b[49m\u001b[38;5;241;43m=\u001b[39;49m\u001b[43mtracked_actor\u001b[49m\u001b[43m)\u001b[49m\n",
      "File \u001b[1;32mc:\\Users\\Admin\\School\\eindopdracht\\.venv\\lib\\site-packages\\ray\\tune\\execution\\tune_controller.py:854\u001b[0m, in \u001b[0;36mTuneController._remove_actor\u001b[1;34m(self, tracked_actor)\u001b[0m\n\u001b[0;32m    853\u001b[0m \u001b[38;5;28;01mdef\u001b[39;00m \u001b[38;5;21m_remove_actor\u001b[39m(\u001b[38;5;28mself\u001b[39m, tracked_actor: TrackedActor):\n\u001b[1;32m--> 854\u001b[0m     stop_future \u001b[38;5;241m=\u001b[39m \u001b[38;5;28;43mself\u001b[39;49m\u001b[38;5;241;43m.\u001b[39;49m\u001b[43m_actor_manager\u001b[49m\u001b[38;5;241;43m.\u001b[39;49m\u001b[43mschedule_actor_task\u001b[49m\u001b[43m(\u001b[49m\n\u001b[0;32m    855\u001b[0m \u001b[43m        \u001b[49m\u001b[43mtracked_actor\u001b[49m\u001b[43m,\u001b[49m\u001b[43m \u001b[49m\u001b[38;5;124;43m\"\u001b[39;49m\u001b[38;5;124;43mstop\u001b[39;49m\u001b[38;5;124;43m\"\u001b[39;49m\u001b[43m,\u001b[49m\u001b[43m \u001b[49m\u001b[43m_return_future\u001b[49m\u001b[38;5;241;43m=\u001b[39;49m\u001b[38;5;28;43;01mTrue\u001b[39;49;00m\n\u001b[0;32m    856\u001b[0m \u001b[43m    \u001b[49m\u001b[43m)\u001b[49m\n\u001b[0;32m    857\u001b[0m     now \u001b[38;5;241m=\u001b[39m time\u001b[38;5;241m.\u001b[39mmonotonic()\n\u001b[0;32m    859\u001b[0m     \u001b[38;5;28;01mif\u001b[39;00m \u001b[38;5;28mself\u001b[39m\u001b[38;5;241m.\u001b[39m_actor_manager\u001b[38;5;241m.\u001b[39mremove_actor(\n\u001b[0;32m    860\u001b[0m         tracked_actor, kill\u001b[38;5;241m=\u001b[39m\u001b[38;5;28;01mFalse\u001b[39;00m, stop_future\u001b[38;5;241m=\u001b[39mstop_future\n\u001b[0;32m    861\u001b[0m     ):\n\u001b[0;32m    862\u001b[0m         \u001b[38;5;66;03m# If the actor was previously alive, track\u001b[39;00m\n",
      "File \u001b[1;32mc:\\Users\\Admin\\School\\eindopdracht\\.venv\\lib\\site-packages\\ray\\air\\execution\\_internal\\actor_manager.py:725\u001b[0m, in \u001b[0;36mRayActorManager.schedule_actor_task\u001b[1;34m(self, tracked_actor, method_name, args, kwargs, on_result, on_error, _return_future)\u001b[0m\n\u001b[0;32m    722\u001b[0m \u001b[38;5;28;01mif\u001b[39;00m tracked_actor \u001b[38;5;129;01mnot\u001b[39;00m \u001b[38;5;129;01min\u001b[39;00m \u001b[38;5;28mself\u001b[39m\u001b[38;5;241m.\u001b[39m_live_actors_to_ray_actors_resources:\n\u001b[0;32m    723\u001b[0m     \u001b[38;5;66;03m# Actor is not started, yet\u001b[39;00m\n\u001b[0;32m    724\u001b[0m     \u001b[38;5;28;01mif\u001b[39;00m tracked_actor \u001b[38;5;129;01mnot\u001b[39;00m \u001b[38;5;129;01min\u001b[39;00m \u001b[38;5;28mself\u001b[39m\u001b[38;5;241m.\u001b[39m_pending_actors_to_attrs:\n\u001b[1;32m--> 725\u001b[0m         \u001b[38;5;28;01mraise\u001b[39;00m \u001b[38;5;167;01mValueError\u001b[39;00m(\n\u001b[0;32m    726\u001b[0m             \u001b[38;5;124mf\u001b[39m\u001b[38;5;124m\"\u001b[39m\u001b[38;5;124mTracked actor is not managed by this event manager: \u001b[39m\u001b[38;5;124m\"\u001b[39m\n\u001b[0;32m    727\u001b[0m             \u001b[38;5;124mf\u001b[39m\u001b[38;5;124m\"\u001b[39m\u001b[38;5;132;01m{\u001b[39;00mtracked_actor\u001b[38;5;132;01m}\u001b[39;00m\u001b[38;5;124m\"\u001b[39m\n\u001b[0;32m    728\u001b[0m         )\n\u001b[0;32m    730\u001b[0m     \u001b[38;5;66;03m# Cache tasks for future execution\u001b[39;00m\n\u001b[0;32m    731\u001b[0m     \u001b[38;5;28mself\u001b[39m\u001b[38;5;241m.\u001b[39m_pending_actors_to_enqueued_actor_tasks[tracked_actor]\u001b[38;5;241m.\u001b[39mappend(\n\u001b[0;32m    732\u001b[0m         (tracked_actor_task, method_name, args, kwargs)\n\u001b[0;32m    733\u001b[0m     )\n",
      "\u001b[1;31mValueError\u001b[0m: Tracked actor is not managed by this event manager: <TrackedActor 91649135076768202010598653429442980430>"
     ]
    }
   ],
   "source": [
    "from pathlib import Path\n",
    "\n",
    "tune_dir = Path(\"../../models/ray/\")\n",
    "tune_dir.exists(), tune_dir.resolve()\n",
    "\n",
    "if __name__ == \"__main__\":\n",
    "    try:\n",
    "        ray.init()\n",
    "    except:\n",
    "        ray.shutdown()\n",
    "        ray.init()\n",
    "\n",
    "    config = {\n",
    "        # \"input_size\": 1, irrelevant\n",
    "        \"num_classes\": 5,      #2 for small one\n",
    "        \"tune_dir\": tune_dir,\n",
    "        \"dropout\":  0.1,\n",
    "        \"hidden\":  128, #tune.randint(64, 256),\n",
    "        \"num_heads\": tune.randint(4,16),\n",
    "        \"num_blocks\": 2 #tune.randint(2,3)\n",
    "    }\n",
    "    reporter = CLIReporter()\n",
    "    reporter.add_metric_column(\"accuracy\")\n",
    "    reporter.add_metric_column(\"precision\")\n",
    "    reporter.add_metric_column(\"recall\")\n",
    "\n",
    "    bohb_hyperband = HyperBandForBOHB(\n",
    "        time_attr=\"training_iteration\",\n",
    "        max_t=50,\n",
    "        reduction_factor=3,\n",
    "        stop_last_trials=False,\n",
    "    )\n",
    "\n",
    "    bohb_search = TuneBOHB()\n",
    "\n",
    "    analysis = tune.run(\n",
    "        train,\n",
    "        config=config,\n",
    "        metric=\"test_loss\",\n",
    "        mode=\"min\",\n",
    "        progress_reporter=reporter,\n",
    "        # local_dir=str(config[\"tune_dir\"]),\n",
    "        num_samples=20,\n",
    "        search_alg=bohb_search,\n",
    "        scheduler=bohb_hyperband,\n",
    "        verbose=1,\n",
    "    )\n",
    "\n",
    "    ray.shutdown()\n"
   ]
  },
  {
   "cell_type": "code",
   "execution_count": null,
   "metadata": {},
   "outputs": [
    {
     "ename": "NameError",
     "evalue": "name 'model' is not defined",
     "output_type": "error",
     "traceback": [
      "\u001b[1;31m---------------------------------------------------------------------------\u001b[0m",
      "\u001b[1;31mNameError\u001b[0m                                 Traceback (most recent call last)",
      "Cell \u001b[1;32mIn[19], line 15\u001b[0m\n\u001b[0;32m      2\u001b[0m loss_fn \u001b[38;5;241m=\u001b[39m torch\u001b[38;5;241m.\u001b[39mnn\u001b[38;5;241m.\u001b[39mCrossEntropyLoss()\n\u001b[0;32m      4\u001b[0m settings \u001b[38;5;241m=\u001b[39m TrainerSettings(\n\u001b[0;32m      5\u001b[0m     epochs\u001b[38;5;241m=\u001b[39m\u001b[38;5;241m5\u001b[39m,\n\u001b[0;32m      6\u001b[0m     metrics\u001b[38;5;241m=\u001b[39m[accuracy, f1micro, f1macro, precision, recall],\n\u001b[1;32m   (...)\u001b[0m\n\u001b[0;32m     12\u001b[0m     earlystop_kwargs\u001b[38;5;241m=\u001b[39m\u001b[38;5;28;01mNone\u001b[39;00m\n\u001b[0;32m     13\u001b[0m )\n\u001b[0;32m     14\u001b[0m trainer \u001b[38;5;241m=\u001b[39m Trainer(\n\u001b[1;32m---> 15\u001b[0m     model\u001b[38;5;241m=\u001b[39m\u001b[43mmodel\u001b[49m,\n\u001b[0;32m     16\u001b[0m     settings\u001b[38;5;241m=\u001b[39msettings,\n\u001b[0;32m     17\u001b[0m     loss_fn\u001b[38;5;241m=\u001b[39mloss_fn,\n\u001b[0;32m     18\u001b[0m     optimizer\u001b[38;5;241m=\u001b[39mtorch\u001b[38;5;241m.\u001b[39moptim\u001b[38;5;241m.\u001b[39mAdam,\n\u001b[0;32m     19\u001b[0m     traindataloader\u001b[38;5;241m=\u001b[39mtrainstreamer\u001b[38;5;241m.\u001b[39mstream(),\n\u001b[0;32m     20\u001b[0m     validdataloader\u001b[38;5;241m=\u001b[39mteststreamer\u001b[38;5;241m.\u001b[39mstream(),\n\u001b[0;32m     21\u001b[0m     scheduler\u001b[38;5;241m=\u001b[39mtorch\u001b[38;5;241m.\u001b[39moptim\u001b[38;5;241m.\u001b[39mlr_scheduler\u001b[38;5;241m.\u001b[39mReduceLROnPlateau\n\u001b[0;32m     22\u001b[0m     )\n\u001b[0;32m     23\u001b[0m trainer\u001b[38;5;241m.\u001b[39mloop()\n",
      "\u001b[1;31mNameError\u001b[0m: name 'model' is not defined"
     ]
    }
   ],
   "source": [
    "from mltrainer import Trainer, TrainerSettings, ReportTypes\n",
    "loss_fn = torch.nn.CrossEntropyLoss()\n",
    "\n",
    "settings = TrainerSettings(\n",
    "    epochs=5,\n",
    "    metrics=[accuracy, f1micro, f1macro, precision, recall],\n",
    "    logdir=\"heart1D\",\n",
    "    train_steps=len(trainstreamer),\n",
    "    valid_steps=len(teststreamer),\n",
    "    reporttypes=[ReportTypes.TENSORBOARD],\n",
    "    scheduler_kwargs={\"factor\": 0.5, \"patience\": 5},\n",
    "    earlystop_kwargs=None\n",
    ")\n",
    "trainer = Trainer(\n",
    "    model=model,\n",
    "    settings=settings,\n",
    "    loss_fn=loss_fn,\n",
    "    optimizer=torch.optim.Adam,\n",
    "    traindataloader=trainstreamer.stream(),\n",
    "    validdataloader=teststreamer.stream(),\n",
    "    scheduler=torch.optim.lr_scheduler.ReduceLROnPlateau\n",
    "    )\n",
    "trainer.loop()"
   ]
  },
  {
   "cell_type": "code",
   "execution_count": 14,
   "metadata": {},
   "outputs": [
    {
     "data": {
      "text/plain": [
       "[Text(0.5, 23.52222222222222, 'Predicted'),\n",
       " Text(50.722222222222214, 0.5, 'Target')]"
      ]
     },
     "execution_count": 14,
     "metadata": {},
     "output_type": "execute_result"
    },
    {
     "data": {
      "image/png": "[encoded data removed]",
      "text/plain": [
       "<Figure size 640x480 with 2 Axes>"
      ]
     },
     "metadata": {},
     "output_type": "display_data"
    }
   ],
   "source": [
    "import seaborn as sns\n",
    "import numpy as np\n",
    "\n",
    "y_true = []\n",
    "y_pred = []\n",
    "\n",
    "testdata = teststreamer.stream()\n",
    "for _ in range(len(teststreamer)):\n",
    "    X, y = next(testdata)\n",
    "    yhat = model(X)\n",
    "    yhat = yhat.argmax(dim=1) # we get the one with the highest probability\n",
    "    y_pred.append(yhat.cpu().tolist())\n",
    "    y_true.append(y.cpu().tolist())\n",
    "\n",
    "yhat = [x for y in y_pred for x in y]\n",
    "y = [x for y in y_true for x in y]\n",
    "\n",
    "cfm = confusion_matrix(y, yhat)\n",
    "# cfm = cfm / np.sum(cfm, axis=1, keepdims=True)\n",
    "\n",
    "plot = sns.heatmap(cfm, annot=cfm, fmt=\".3f\")\n",
    "plot.set(xlabel=\"Predicted\", ylabel=\"Target\")"
   ]
  },
  {
   "cell_type": "code",
   "execution_count": null,
   "metadata": {},
   "outputs": [],
   "source": []
  },
  {
   "cell_type": "code",
   "execution_count": null,
   "metadata": {},
   "outputs": [],
   "source": []
  }
 ],
 "metadata": {
  "kernelspec": {
   "display_name": ".venv",
   "language": "python",
   "name": "python3"
  },
  "language_info": {
   "codemirror_mode": {
    "name": "ipython",
    "version": 3
   },
   "file_extension": ".py",
   "mimetype": "text/x-python",
   "name": "python",
   "nbconvert_exporter": "python",
   "pygments_lexer": "ipython3",
   "version": "3.10.7"
  }
 },
 "nbformat": 4,
 "nbformat_minor": 2
}
